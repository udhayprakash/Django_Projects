{
 "cells": [
  {
   "cell_type": "code",
   "execution_count": 1,
   "metadata": {},
   "outputs": [],
   "source": [
    "from polls.models import Question, Choice"
   ]
  },
  {
   "cell_type": "code",
   "execution_count": 2,
   "metadata": {},
   "outputs": [
    {
     "data": {
      "text/plain": [
       "<QuerySet [<Question: What's new?>, <Question: How are you?>, <Question: What is your age?>, <Question: What is your best hobby?>]>"
      ]
     },
     "execution_count": 2,
     "metadata": {},
     "output_type": "execute_result"
    }
   ],
   "source": [
    "Question.objects.all()"
   ]
  },
  {
   "cell_type": "code",
   "execution_count": 3,
   "metadata": {},
   "outputs": [
    {
     "data": {
      "text/plain": [
       "<QuerySet [{'id': 1, 'question_text': \"What's new?\", 'pub_date': datetime.datetime(2020, 4, 29, 0, 28, 27, 352521, tzinfo=<UTC>)}, {'id': 2, 'question_text': 'How are you?', 'pub_date': datetime.datetime(2020, 4, 29, 0, 30, 21, 464747, tzinfo=<UTC>)}, {'id': 3, 'question_text': 'What is your age?', 'pub_date': datetime.datetime(2020, 4, 29, 0, 43, 54, 342515, tzinfo=<UTC>)}, {'id': 4, 'question_text': 'What is your best hobby?', 'pub_date': datetime.datetime(2020, 4, 30, 0, 1, 14, tzinfo=<UTC>)}]>"
      ]
     },
     "execution_count": 3,
     "metadata": {},
     "output_type": "execute_result"
    }
   ],
   "source": [
    "Question.objects.values()"
   ]
  },
  {
   "cell_type": "code",
   "execution_count": 4,
   "metadata": {},
   "outputs": [
    {
     "name": "stdout",
     "output_type": "stream",
     "text": [
      "{'id': 1, 'question_text': \"What's new?\", 'pub_date': datetime.datetime(2020, 4, 29, 0, 28, 27, 352521, tzinfo=<UTC>)}\n",
      "{'id': 2, 'question_text': 'How are you?', 'pub_date': datetime.datetime(2020, 4, 29, 0, 30, 21, 464747, tzinfo=<UTC>)}\n",
      "{'id': 3, 'question_text': 'What is your age?', 'pub_date': datetime.datetime(2020, 4, 29, 0, 43, 54, 342515, tzinfo=<UTC>)}\n",
      "{'id': 4, 'question_text': 'What is your best hobby?', 'pub_date': datetime.datetime(2020, 4, 30, 0, 1, 14, tzinfo=<UTC>)}\n"
     ]
    }
   ],
   "source": [
    "for each in Question.objects.values(): print(each)"
   ]
  },
  {
   "cell_type": "code",
   "execution_count": 5,
   "metadata": {},
   "outputs": [
    {
     "name": "stdout",
     "output_type": "stream",
     "text": [
      "(1, \"What's new?\", datetime.datetime(2020, 4, 29, 0, 28, 27, 352521, tzinfo=<UTC>))\n",
      "(2, 'How are you?', datetime.datetime(2020, 4, 29, 0, 30, 21, 464747, tzinfo=<UTC>))\n",
      "(3, 'What is your age?', datetime.datetime(2020, 4, 29, 0, 43, 54, 342515, tzinfo=<UTC>))\n",
      "(4, 'What is your best hobby?', datetime.datetime(2020, 4, 30, 0, 1, 14, tzinfo=<UTC>))\n"
     ]
    }
   ],
   "source": [
    "for each in Question.objects.values_list(): print(each)"
   ]
  },
  {
   "cell_type": "code",
   "execution_count": 6,
   "metadata": {},
   "outputs": [
    {
     "name": "stdout",
     "output_type": "stream",
     "text": [
      "(1, \"What's new?\", datetime.datetime(2020, 4, 29, 0, 28, 27, 352521, tzinfo=<UTC>))\n",
      "(2, 'How are you?', datetime.datetime(2020, 4, 29, 0, 30, 21, 464747, tzinfo=<UTC>))\n",
      "(3, 'What is your age?', datetime.datetime(2020, 4, 29, 0, 43, 54, 342515, tzinfo=<UTC>))\n",
      "(4, 'What is your best hobby?', datetime.datetime(2020, 4, 30, 0, 1, 14, tzinfo=<UTC>))\n"
     ]
    }
   ],
   "source": [
    "for each in Question.objects.values_list().order_by('id'): print(each)"
   ]
  },
  {
   "cell_type": "code",
   "execution_count": 7,
   "metadata": {},
   "outputs": [
    {
     "name": "stdout",
     "output_type": "stream",
     "text": [
      "(4, 'What is your best hobby?', datetime.datetime(2020, 4, 30, 0, 1, 14, tzinfo=<UTC>))\n",
      "(3, 'What is your age?', datetime.datetime(2020, 4, 29, 0, 43, 54, 342515, tzinfo=<UTC>))\n",
      "(2, 'How are you?', datetime.datetime(2020, 4, 29, 0, 30, 21, 464747, tzinfo=<UTC>))\n",
      "(1, \"What's new?\", datetime.datetime(2020, 4, 29, 0, 28, 27, 352521, tzinfo=<UTC>))\n"
     ]
    }
   ],
   "source": [
    "for each in Question.objects.values_list().order_by('-id'): print(each)"
   ]
  },
  {
   "cell_type": "code",
   "execution_count": 8,
   "metadata": {},
   "outputs": [
    {
     "name": "stdout",
     "output_type": "stream",
     "text": [
      "(2, 'How are you?', datetime.datetime(2020, 4, 29, 0, 30, 21, 464747, tzinfo=<UTC>))\n",
      "(3, 'What is your age?', datetime.datetime(2020, 4, 29, 0, 43, 54, 342515, tzinfo=<UTC>))\n",
      "(4, 'What is your best hobby?', datetime.datetime(2020, 4, 30, 0, 1, 14, tzinfo=<UTC>))\n",
      "(1, \"What's new?\", datetime.datetime(2020, 4, 29, 0, 28, 27, 352521, tzinfo=<UTC>))\n"
     ]
    }
   ],
   "source": [
    "for each in Question.objects.values_list().order_by('question_text'): print(each)"
   ]
  },
  {
   "cell_type": "code",
   "execution_count": 9,
   "metadata": {},
   "outputs": [
    {
     "name": "stdout",
     "output_type": "stream",
     "text": [
      "(1, \"What's new?\", datetime.datetime(2020, 4, 29, 0, 28, 27, 352521, tzinfo=<UTC>))\n",
      "(4, 'What is your best hobby?', datetime.datetime(2020, 4, 30, 0, 1, 14, tzinfo=<UTC>))\n",
      "(3, 'What is your age?', datetime.datetime(2020, 4, 29, 0, 43, 54, 342515, tzinfo=<UTC>))\n",
      "(2, 'How are you?', datetime.datetime(2020, 4, 29, 0, 30, 21, 464747, tzinfo=<UTC>))\n"
     ]
    }
   ],
   "source": [
    "for each in Question.objects.values_list().order_by('-question_text'): print(each)"
   ]
  },
  {
   "cell_type": "code",
   "execution_count": 10,
   "metadata": {},
   "outputs": [
    {
     "data": {
      "text/plain": [
       "4"
      ]
     },
     "execution_count": 10,
     "metadata": {},
     "output_type": "execute_result"
    }
   ],
   "source": [
    " Question.objects.count()"
   ]
  },
  {
   "cell_type": "code",
   "execution_count": 13,
   "metadata": {},
   "outputs": [
    {
     "data": {
      "text/plain": [
       "3"
      ]
     },
     "execution_count": 13,
     "metadata": {},
     "output_type": "execute_result"
    }
   ],
   "source": [
    " Question.objects.filter(question_text__startswith='What').count()"
   ]
  },
  {
   "cell_type": "code",
   "execution_count": 14,
   "metadata": {},
   "outputs": [
    {
     "name": "stdout",
     "output_type": "stream",
     "text": [
      "{'id': 1, 'question_text': \"What's new?\", 'pub_date': datetime.datetime(2020, 4, 29, 0, 28, 27, 352521, tzinfo=<UTC>)}\n",
      "{'id': 3, 'question_text': 'What is your age?', 'pub_date': datetime.datetime(2020, 4, 29, 0, 43, 54, 342515, tzinfo=<UTC>)}\n",
      "{'id': 4, 'question_text': 'What is your best hobby?', 'pub_date': datetime.datetime(2020, 4, 30, 0, 1, 14, tzinfo=<UTC>)}\n"
     ]
    }
   ],
   "source": [
    "for each in Question.objects.filter(question_text__startswith='What').values(): print(each)"
   ]
  },
  {
   "cell_type": "code",
   "execution_count": 18,
   "metadata": {},
   "outputs": [
    {
     "name": "stdout",
     "output_type": "stream",
     "text": [
      "{'id': 2, 'question_text': 'How are you?', 'pub_date': datetime.datetime(2020, 4, 29, 0, 30, 21, 464747, tzinfo=<UTC>)}\n"
     ]
    }
   ],
   "source": [
    "for each in Question.objects.exclude(question_text__startswith='What').values(): print(each)"
   ]
  },
  {
   "cell_type": "code",
   "execution_count": 15,
   "metadata": {},
   "outputs": [
    {
     "name": "stdout",
     "output_type": "stream",
     "text": [
      "{'id': 1, 'question_text': \"What's new?\", 'pub_date': datetime.datetime(2020, 4, 29, 0, 28, 27, 352521, tzinfo=<UTC>)}\n",
      "{'id': 2, 'question_text': 'How are you?', 'pub_date': datetime.datetime(2020, 4, 29, 0, 30, 21, 464747, tzinfo=<UTC>)}\n",
      "{'id': 3, 'question_text': 'What is your age?', 'pub_date': datetime.datetime(2020, 4, 29, 0, 43, 54, 342515, tzinfo=<UTC>)}\n",
      "{'id': 4, 'question_text': 'What is your best hobby?', 'pub_date': datetime.datetime(2020, 4, 30, 0, 1, 14, tzinfo=<UTC>)}\n"
     ]
    }
   ],
   "source": [
    "for each in Question.objects.filter(question_text__endswith='?').values(): print(each)"
   ]
  },
  {
   "cell_type": "code",
   "execution_count": 17,
   "metadata": {},
   "outputs": [],
   "source": [
    "for each in Question.objects.exclude(question_text__endswith='?').values(): print(each)"
   ]
  },
  {
   "cell_type": "code",
   "execution_count": 20,
   "metadata": {},
   "outputs": [
    {
     "data": {
      "text/plain": [
       "<QuerySet []>"
      ]
     },
     "execution_count": 20,
     "metadata": {},
     "output_type": "execute_result"
    }
   ],
   "source": [
    "Question.objects.exclude(question_text__endswith='?').values()"
   ]
  },
  {
   "cell_type": "code",
   "execution_count": 22,
   "metadata": {},
   "outputs": [
    {
     "data": {
      "text/plain": [
       "'2 0 0 SCAN TABLE polls_question'"
      ]
     },
     "execution_count": 22,
     "metadata": {},
     "output_type": "execute_result"
    }
   ],
   "source": [
    "Question.objects.exclude(question_text__endswith='?').values().explain()"
   ]
  },
  {
   "cell_type": "code",
   "execution_count": 43,
   "metadata": {},
   "outputs": [
    {
     "name": "stdout",
     "output_type": "stream",
     "text": [
      "{'id': 1, 'question_text': \"What's new?\", 'pub_date': datetime.datetime(2020, 4, 29, 0, 28, 27, 352521, tzinfo=<UTC>)}\n",
      "{'id': 2, 'question_text': 'How are you?', 'pub_date': datetime.datetime(2020, 4, 29, 0, 30, 21, 464747, tzinfo=<UTC>)}\n",
      "{'id': 3, 'question_text': 'What is your age?', 'pub_date': datetime.datetime(2020, 4, 29, 0, 43, 54, 342515, tzinfo=<UTC>)}\n",
      "{'id': 4, 'question_text': 'What is your best hobby?', 'pub_date': datetime.datetime(2020, 4, 30, 0, 1, 14, tzinfo=<UTC>)}\n"
     ]
    }
   ],
   "source": [
    "for each in Question.objects.values(): print(each)"
   ]
  },
  {
   "cell_type": "code",
   "execution_count": 44,
   "metadata": {},
   "outputs": [
    {
     "name": "stdout",
     "output_type": "stream",
     "text": [
      "{'id': 1, 'question_text': \"What's new?\", 'pub_date': datetime.datetime(2020, 4, 29, 0, 28, 27, 352521, tzinfo=<UTC>)}\n",
      "{'id': 3, 'question_text': 'What is your age?', 'pub_date': datetime.datetime(2020, 4, 29, 0, 43, 54, 342515, tzinfo=<UTC>)}\n",
      "{'id': 4, 'question_text': 'What is your best hobby?', 'pub_date': datetime.datetime(2020, 4, 30, 0, 1, 14, tzinfo=<UTC>)}\n"
     ]
    }
   ],
   "source": [
    "for each in Question.objects.filter(question_text__startswith='What').values(): print(each)"
   ]
  },
  {
   "cell_type": "code",
   "execution_count": 46,
   "metadata": {},
   "outputs": [
    {
     "data": {
      "text/plain": [
       "<QuerySet [<Question: What's new?>]>"
      ]
     },
     "execution_count": 46,
     "metadata": {},
     "output_type": "execute_result"
    }
   ],
   "source": [
    "Question.objects.filter(question_text__startswith=\"What's new?\")"
   ]
  },
  {
   "cell_type": "code",
   "execution_count": 48,
   "metadata": {},
   "outputs": [
    {
     "data": {
      "text/plain": [
       "1"
      ]
     },
     "execution_count": 48,
     "metadata": {},
     "output_type": "execute_result"
    }
   ],
   "source": [
    "Question.objects.filter(question_text__startswith=\"What's new?\").update(question_text='What are the new updates?')"
   ]
  },
  {
   "cell_type": "code",
   "execution_count": 49,
   "metadata": {},
   "outputs": [
    {
     "data": {
      "text/plain": [
       "<QuerySet []>"
      ]
     },
     "execution_count": 49,
     "metadata": {},
     "output_type": "execute_result"
    }
   ],
   "source": [
    "Question.objects.filter(question_text__startswith=\"What's new?\")"
   ]
  },
  {
   "cell_type": "code",
   "execution_count": 50,
   "metadata": {},
   "outputs": [
    {
     "data": {
      "text/plain": [
       "<QuerySet [<Question: What are the new updates?>]>"
      ]
     },
     "execution_count": 50,
     "metadata": {},
     "output_type": "execute_result"
    }
   ],
   "source": [
    "Question.objects.filter(question_text__startswith='What are the new updates?')"
   ]
  },
  {
   "cell_type": "code",
   "execution_count": 51,
   "metadata": {},
   "outputs": [
    {
     "name": "stdout",
     "output_type": "stream",
     "text": [
      "{'id': 1, 'question_text': 'What are the new updates?', 'pub_date': datetime.datetime(2020, 4, 29, 0, 28, 27, 352521, tzinfo=<UTC>)}\n",
      "{'id': 3, 'question_text': 'What is your age?', 'pub_date': datetime.datetime(2020, 4, 29, 0, 43, 54, 342515, tzinfo=<UTC>)}\n",
      "{'id': 4, 'question_text': 'What is your best hobby?', 'pub_date': datetime.datetime(2020, 4, 30, 0, 1, 14, tzinfo=<UTC>)}\n"
     ]
    }
   ],
   "source": [
    "for each in Question.objects.filter(question_text__startswith='What').values(): print(each)"
   ]
  },
  {
   "cell_type": "code",
   "execution_count": 52,
   "metadata": {},
   "outputs": [
    {
     "data": {
      "text/plain": [
       "<QuerySet [{'id': 1, 'question_text': 'What are the new updates?', 'pub_date': datetime.datetime(2020, 4, 29, 0, 28, 27, 352521, tzinfo=<UTC>)}, {'id': 2, 'question_text': 'How are you?', 'pub_date': datetime.datetime(2020, 4, 29, 0, 30, 21, 464747, tzinfo=<UTC>)}, {'id': 3, 'question_text': 'What is your age?', 'pub_date': datetime.datetime(2020, 4, 29, 0, 43, 54, 342515, tzinfo=<UTC>)}, {'id': 4, 'question_text': 'What is your best hobby?', 'pub_date': datetime.datetime(2020, 4, 30, 0, 1, 14, tzinfo=<UTC>)}]>"
      ]
     },
     "execution_count": 52,
     "metadata": {},
     "output_type": "execute_result"
    }
   ],
   "source": [
    "Question.objects.filter(question_text__endswith='?').values()"
   ]
  },
  {
   "cell_type": "code",
   "execution_count": 53,
   "metadata": {},
   "outputs": [
    {
     "ename": "MultipleObjectsReturned",
     "evalue": "get() returned more than one Question -- it returned 4!",
     "output_type": "error",
     "traceback": [
      "\u001b[1;31m---------------------------------------------------------------------------\u001b[0m",
      "\u001b[1;31mMultipleObjectsReturned\u001b[0m                   Traceback (most recent call last)",
      "\u001b[1;32m<ipython-input-53-7d355a5b8b90>\u001b[0m in \u001b[0;36m<module>\u001b[1;34m\u001b[0m\n\u001b[1;32m----> 1\u001b[1;33m \u001b[0mQuestion\u001b[0m\u001b[1;33m.\u001b[0m\u001b[0mobjects\u001b[0m\u001b[1;33m.\u001b[0m\u001b[0mget\u001b[0m\u001b[1;33m(\u001b[0m\u001b[0mquestion_text__endswith\u001b[0m\u001b[1;33m=\u001b[0m\u001b[1;34m'?'\u001b[0m\u001b[1;33m)\u001b[0m\u001b[1;33m.\u001b[0m\u001b[0mvalues\u001b[0m\u001b[1;33m(\u001b[0m\u001b[1;33m)\u001b[0m\u001b[1;33m\u001b[0m\u001b[1;33m\u001b[0m\u001b[0m\n\u001b[0m",
      "\u001b[1;32mD:\\Professional\\courses\\Python-related\\Django-related\\Django_Projects\\startProject\\.venv\\lib\\site-packages\\django\\db\\models\\manager.py\u001b[0m in \u001b[0;36mmanager_method\u001b[1;34m(self, *args, **kwargs)\u001b[0m\n\u001b[0;32m     80\u001b[0m         \u001b[1;32mdef\u001b[0m \u001b[0mcreate_method\u001b[0m\u001b[1;33m(\u001b[0m\u001b[0mname\u001b[0m\u001b[1;33m,\u001b[0m \u001b[0mmethod\u001b[0m\u001b[1;33m)\u001b[0m\u001b[1;33m:\u001b[0m\u001b[1;33m\u001b[0m\u001b[1;33m\u001b[0m\u001b[0m\n\u001b[0;32m     81\u001b[0m             \u001b[1;32mdef\u001b[0m \u001b[0mmanager_method\u001b[0m\u001b[1;33m(\u001b[0m\u001b[0mself\u001b[0m\u001b[1;33m,\u001b[0m \u001b[1;33m*\u001b[0m\u001b[0margs\u001b[0m\u001b[1;33m,\u001b[0m \u001b[1;33m**\u001b[0m\u001b[0mkwargs\u001b[0m\u001b[1;33m)\u001b[0m\u001b[1;33m:\u001b[0m\u001b[1;33m\u001b[0m\u001b[1;33m\u001b[0m\u001b[0m\n\u001b[1;32m---> 82\u001b[1;33m                 \u001b[1;32mreturn\u001b[0m \u001b[0mgetattr\u001b[0m\u001b[1;33m(\u001b[0m\u001b[0mself\u001b[0m\u001b[1;33m.\u001b[0m\u001b[0mget_queryset\u001b[0m\u001b[1;33m(\u001b[0m\u001b[1;33m)\u001b[0m\u001b[1;33m,\u001b[0m \u001b[0mname\u001b[0m\u001b[1;33m)\u001b[0m\u001b[1;33m(\u001b[0m\u001b[1;33m*\u001b[0m\u001b[0margs\u001b[0m\u001b[1;33m,\u001b[0m \u001b[1;33m**\u001b[0m\u001b[0mkwargs\u001b[0m\u001b[1;33m)\u001b[0m\u001b[1;33m\u001b[0m\u001b[1;33m\u001b[0m\u001b[0m\n\u001b[0m\u001b[0;32m     83\u001b[0m             \u001b[0mmanager_method\u001b[0m\u001b[1;33m.\u001b[0m\u001b[0m__name__\u001b[0m \u001b[1;33m=\u001b[0m \u001b[0mmethod\u001b[0m\u001b[1;33m.\u001b[0m\u001b[0m__name__\u001b[0m\u001b[1;33m\u001b[0m\u001b[1;33m\u001b[0m\u001b[0m\n\u001b[0;32m     84\u001b[0m             \u001b[0mmanager_method\u001b[0m\u001b[1;33m.\u001b[0m\u001b[0m__doc__\u001b[0m \u001b[1;33m=\u001b[0m \u001b[0mmethod\u001b[0m\u001b[1;33m.\u001b[0m\u001b[0m__doc__\u001b[0m\u001b[1;33m\u001b[0m\u001b[1;33m\u001b[0m\u001b[0m\n",
      "\u001b[1;32mD:\\Professional\\courses\\Python-related\\Django-related\\Django_Projects\\startProject\\.venv\\lib\\site-packages\\django\\db\\models\\query.py\u001b[0m in \u001b[0;36mget\u001b[1;34m(self, *args, **kwargs)\u001b[0m\n\u001b[0;32m    417\u001b[0m                 \u001b[0mself\u001b[0m\u001b[1;33m.\u001b[0m\u001b[0mmodel\u001b[0m\u001b[1;33m.\u001b[0m\u001b[0m_meta\u001b[0m\u001b[1;33m.\u001b[0m\u001b[0mobject_name\u001b[0m\u001b[1;33m\u001b[0m\u001b[1;33m\u001b[0m\u001b[0m\n\u001b[0;32m    418\u001b[0m             )\n\u001b[1;32m--> 419\u001b[1;33m         raise self.model.MultipleObjectsReturned(\n\u001b[0m\u001b[0;32m    420\u001b[0m             'get() returned more than one %s -- it returned %s!' % (\n\u001b[0;32m    421\u001b[0m                 \u001b[0mself\u001b[0m\u001b[1;33m.\u001b[0m\u001b[0mmodel\u001b[0m\u001b[1;33m.\u001b[0m\u001b[0m_meta\u001b[0m\u001b[1;33m.\u001b[0m\u001b[0mobject_name\u001b[0m\u001b[1;33m,\u001b[0m\u001b[1;33m\u001b[0m\u001b[1;33m\u001b[0m\u001b[0m\n",
      "\u001b[1;31mMultipleObjectsReturned\u001b[0m: get() returned more than one Question -- it returned 4!"
     ]
    }
   ],
   "source": [
    "Question.objects.get(question_text__endswith='?').values()"
   ]
  },
  {
   "cell_type": "code",
   "execution_count": 56,
   "metadata": {},
   "outputs": [
    {
     "name": "stdout",
     "output_type": "stream",
     "text": [
      "['DoesNotExist', 'MultipleObjectsReturned', '__class__', '__delattr__', '__dict__', '__dir__', '__doc__', '__eq__', '__format__', '__ge__', '__getattribute__', '__getstate__', '__gt__', '__hash__', '__init__', '__init_subclass__', '__le__', '__lt__', '__module__', '__ne__', '__new__', '__reduce__', '__reduce_ex__', '__repr__', '__setattr__', '__setstate__', '__sizeof__', '__str__', '__subclasshook__', '__weakref__', '_check_column_name_clashes', '_check_constraints', '_check_field_name_clashes', '_check_fields', '_check_id_field', '_check_index_together', '_check_indexes', '_check_local_fields', '_check_long_column_names', '_check_m2m_through_same_relationship', '_check_managers', '_check_model', '_check_model_name_db_lookup_clashes', '_check_ordering', '_check_property_name_related_field_accessor_clashes', '_check_single_primary_key', '_check_swappable', '_check_unique_together', '_do_insert', '_do_update', '_get_FIELD_display', '_get_next_or_previous_by_FIELD', '_get_next_or_previous_in_order', '_get_pk_val', '_get_unique_checks', '_meta', '_perform_date_checks', '_perform_unique_checks', '_save_parents', '_save_table', '_set_pk_val', '_state', 'check', 'choice_set', 'clean', 'clean_fields', 'date_error_message', 'delete', 'from_db', 'full_clean', 'get_deferred_fields', 'get_next_by_pub_date', 'get_previous_by_pub_date', 'id', 'objects', 'pk', 'prepare_database_save', 'pub_date', 'question_text', 'refresh_from_db', 'save', 'save_base', 'serializable_value', 'unique_error_message', 'validate_unique', 'was_published_recently']\n"
     ]
    }
   ],
   "source": [
    "single_record = Question.objects.get(question_text='What is your age?')\n",
    "\n",
    "print(dir(single_record))"
   ]
  },
  {
   "cell_type": "code",
   "execution_count": 57,
   "metadata": {},
   "outputs": [
    {
     "name": "stdout",
     "output_type": "stream",
     "text": [
      "single_record =<Question: What is your age?>\n",
      "single_record.id =3\n",
      "single_record.question_text ='What is your age?'\n",
      "single_record.pub_date =datetime.datetime(2020, 4, 29, 0, 43, 54, 342515, tzinfo=<UTC>)\n"
     ]
    }
   ],
   "source": [
    "print(f'{single_record =}')\n",
    "print(f'{single_record.id =}')\n",
    "print(f'{single_record.question_text =}')\n",
    "print(f'{single_record.pub_date =}')"
   ]
  },
  {
   "cell_type": "code",
   "execution_count": 61,
   "metadata": {},
   "outputs": [
    {
     "name": "stderr",
     "output_type": "stream",
     "text": [
      "D:\\Professional\\courses\\Python-related\\Django-related\\Django_Projects\\startProject\\.venv\\lib\\site-packages\\django\\db\\models\\fields\\__init__.py:1365: RuntimeWarning: DateTimeField Question.pub_date received a naive datetime (2020-05-07 00:00:00) while time zone support is active.\n",
      "  warnings.warn(\"DateTimeField %s received a naive datetime (%s)\"\n"
     ]
    }
   ],
   "source": [
    "Question(\n",
    "    question_text= 'What is your favorite movie?',\n",
    "    pub_date = '2020-05-07'\n",
    "\n",
    ").save()"
   ]
  },
  {
   "cell_type": "code",
   "execution_count": 62,
   "metadata": {},
   "outputs": [],
   "source": [
    "from django.utils import timezone\n",
    "\n",
    "Question(\n",
    "    question_text= 'What is your favorite food?',\n",
    "    pub_date = timezone.now()\n",
    "\n",
    ").save()"
   ]
  },
  {
   "cell_type": "code",
   "execution_count": 63,
   "metadata": {},
   "outputs": [
    {
     "name": "stdout",
     "output_type": "stream",
     "text": [
      "{'id': 1, 'question_text': 'What are the new updates?', 'pub_date': datetime.datetime(2020, 4, 29, 0, 28, 27, 352521, tzinfo=<UTC>)}\n",
      "{'id': 2, 'question_text': 'How are you?', 'pub_date': datetime.datetime(2020, 4, 29, 0, 30, 21, 464747, tzinfo=<UTC>)}\n",
      "{'id': 3, 'question_text': 'What is your age?', 'pub_date': datetime.datetime(2020, 4, 29, 0, 43, 54, 342515, tzinfo=<UTC>)}\n",
      "{'id': 4, 'question_text': 'What is your best hobby?', 'pub_date': datetime.datetime(2020, 4, 30, 0, 1, 14, tzinfo=<UTC>)}\n",
      "{'id': 5, 'question_text': 'What is your favorite movie?', 'pub_date': datetime.datetime(2020, 5, 7, 5, 0, tzinfo=<UTC>)}\n",
      "{'id': 6, 'question_text': 'What is your favorite food?', 'pub_date': datetime.datetime(2020, 5, 7, 0, 41, 40, 158835, tzinfo=<UTC>)}\n"
     ]
    }
   ],
   "source": [
    "for each in Question.objects.values(): print(each)"
   ]
  },
  {
   "cell_type": "code",
   "execution_count": 64,
   "metadata": {},
   "outputs": [
    {
     "data": {
      "text/plain": [
       "<QuerySet [{'pub_date': datetime.datetime(2020, 4, 29, 0, 28, 27, 352521, tzinfo=<UTC>)}, {'pub_date': datetime.datetime(2020, 4, 29, 0, 30, 21, 464747, tzinfo=<UTC>)}, {'pub_date': datetime.datetime(2020, 4, 29, 0, 43, 54, 342515, tzinfo=<UTC>)}, {'pub_date': datetime.datetime(2020, 4, 30, 0, 1, 14, tzinfo=<UTC>)}, {'pub_date': datetime.datetime(2020, 5, 7, 5, 0, tzinfo=<UTC>)}, {'pub_date': datetime.datetime(2020, 5, 7, 0, 41, 40, 158835, tzinfo=<UTC>)}]>"
      ]
     },
     "execution_count": 64,
     "metadata": {},
     "output_type": "execute_result"
    }
   ],
   "source": [
    "Question.objects.values('pub_date')"
   ]
  },
  {
   "cell_type": "code",
   "execution_count": 65,
   "metadata": {},
   "outputs": [
    {
     "data": {
      "text/plain": [
       "<QuerySet [(datetime.datetime(2020, 4, 29, 0, 28, 27, 352521, tzinfo=<UTC>),), (datetime.datetime(2020, 4, 29, 0, 30, 21, 464747, tzinfo=<UTC>),), (datetime.datetime(2020, 4, 29, 0, 43, 54, 342515, tzinfo=<UTC>),), (datetime.datetime(2020, 4, 30, 0, 1, 14, tzinfo=<UTC>),), (datetime.datetime(2020, 5, 7, 5, 0, tzinfo=<UTC>),), (datetime.datetime(2020, 5, 7, 0, 41, 40, 158835, tzinfo=<UTC>),)]>"
      ]
     },
     "execution_count": 65,
     "metadata": {},
     "output_type": "execute_result"
    }
   ],
   "source": [
    "Question.objects.values_list('pub_date')"
   ]
  },
  {
   "cell_type": "code",
   "execution_count": 66,
   "metadata": {},
   "outputs": [
    {
     "data": {
      "text/plain": [
       "<QuerySet [datetime.datetime(2020, 4, 29, 0, 28, 27, 352521, tzinfo=<UTC>), datetime.datetime(2020, 4, 29, 0, 30, 21, 464747, tzinfo=<UTC>), datetime.datetime(2020, 4, 29, 0, 43, 54, 342515, tzinfo=<UTC>), datetime.datetime(2020, 4, 30, 0, 1, 14, tzinfo=<UTC>), datetime.datetime(2020, 5, 7, 5, 0, tzinfo=<UTC>), datetime.datetime(2020, 5, 7, 0, 41, 40, 158835, tzinfo=<UTC>)]>"
      ]
     },
     "execution_count": 66,
     "metadata": {},
     "output_type": "execute_result"
    }
   ],
   "source": [
    "Question.objects.values_list('pub_date', flat=True)"
   ]
  },
  {
   "cell_type": "code",
   "execution_count": 67,
   "metadata": {},
   "outputs": [
    {
     "data": {
      "text/plain": [
       "<QuerySet [datetime.datetime(2020, 4, 29, 0, 28, 27, 352521, tzinfo=<UTC>), datetime.datetime(2020, 4, 29, 0, 30, 21, 464747, tzinfo=<UTC>), datetime.datetime(2020, 4, 29, 0, 43, 54, 342515, tzinfo=<UTC>), datetime.datetime(2020, 4, 30, 0, 1, 14, tzinfo=<UTC>), datetime.datetime(2020, 5, 7, 0, 41, 40, 158835, tzinfo=<UTC>), datetime.datetime(2020, 5, 7, 5, 0, tzinfo=<UTC>)]>"
      ]
     },
     "execution_count": 67,
     "metadata": {},
     "output_type": "execute_result"
    }
   ],
   "source": [
    "Question.objects.values_list('pub_date', flat=True).order_by('pub_date')"
   ]
  },
  {
   "cell_type": "code",
   "execution_count": 68,
   "metadata": {},
   "outputs": [
    {
     "data": {
      "text/plain": [
       "<QuerySet [datetime.datetime(2020, 4, 29, 0, 28, 27, 352521, tzinfo=<UTC>), datetime.datetime(2020, 4, 29, 0, 30, 21, 464747, tzinfo=<UTC>), datetime.datetime(2020, 4, 29, 0, 43, 54, 342515, tzinfo=<UTC>), datetime.datetime(2020, 4, 30, 0, 1, 14, tzinfo=<UTC>), datetime.datetime(2020, 5, 7, 0, 41, 40, 158835, tzinfo=<UTC>), datetime.datetime(2020, 5, 7, 5, 0, tzinfo=<UTC>)]>"
      ]
     },
     "execution_count": 68,
     "metadata": {},
     "output_type": "execute_result"
    }
   ],
   "source": [
    "Question.objects.values_list('pub_date', flat=True).order_by('pub_date').distinct()"
   ]
  },
  {
   "cell_type": "code",
   "execution_count": 69,
   "metadata": {},
   "outputs": [
    {
     "data": {
      "text/plain": [
       "6"
      ]
     },
     "execution_count": 69,
     "metadata": {},
     "output_type": "execute_result"
    }
   ],
   "source": [
    "Question.objects.update(pub_date = timezone.now())"
   ]
  },
  {
   "cell_type": "code",
   "execution_count": 70,
   "metadata": {},
   "outputs": [
    {
     "data": {
      "text/plain": [
       "<QuerySet [datetime.datetime(2020, 5, 7, 0, 44, 32, 587236, tzinfo=<UTC>)]>"
      ]
     },
     "execution_count": 70,
     "metadata": {},
     "output_type": "execute_result"
    }
   ],
   "source": [
    "Question.objects.values_list('pub_date', flat=True).order_by('pub_date').distinct()"
   ]
  },
  {
   "cell_type": "code",
   "execution_count": 71,
   "metadata": {},
   "outputs": [
    {
     "name": "stdout",
     "output_type": "stream",
     "text": [
      "{'id': 1, 'question_text': 'What are the new updates?', 'pub_date': datetime.datetime(2020, 5, 7, 0, 44, 32, 587236, tzinfo=<UTC>)}\n",
      "{'id': 2, 'question_text': 'How are you?', 'pub_date': datetime.datetime(2020, 5, 7, 0, 44, 32, 587236, tzinfo=<UTC>)}\n",
      "{'id': 3, 'question_text': 'What is your age?', 'pub_date': datetime.datetime(2020, 5, 7, 0, 44, 32, 587236, tzinfo=<UTC>)}\n",
      "{'id': 4, 'question_text': 'What is your best hobby?', 'pub_date': datetime.datetime(2020, 5, 7, 0, 44, 32, 587236, tzinfo=<UTC>)}\n",
      "{'id': 5, 'question_text': 'What is your favorite movie?', 'pub_date': datetime.datetime(2020, 5, 7, 0, 44, 32, 587236, tzinfo=<UTC>)}\n",
      "{'id': 6, 'question_text': 'What is your favorite food?', 'pub_date': datetime.datetime(2020, 5, 7, 0, 44, 32, 587236, tzinfo=<UTC>)}\n"
     ]
    }
   ],
   "source": [
    "for each in Question.objects.values(): print(each)"
   ]
  },
  {
   "cell_type": "code",
   "execution_count": 58,
   "metadata": {},
   "outputs": [
    {
     "data": {
      "text/plain": [
       "<RawQuerySet: SELECT * FROM polls_question;>"
      ]
     },
     "execution_count": 58,
     "metadata": {},
     "output_type": "execute_result"
    }
   ],
   "source": [
    "Question.objects.raw('SELECT * FROM polls_question;')"
   ]
  },
  {
   "cell_type": "code",
   "execution_count": 25,
   "metadata": {},
   "outputs": [
    {
     "name": "stdout",
     "output_type": "stream",
     "text": [
      "['__bool__', '__class__', '__delattr__', '__dict__', '__dir__', '__doc__', '__eq__', '__format__', '__ge__', '__getattribute__', '__getitem__', '__gt__', '__hash__', '__init__', '__init_subclass__', '__iter__', '__le__', '__len__', '__lt__', '__module__', '__ne__', '__new__', '__reduce__', '__reduce_ex__', '__repr__', '__setattr__', '__sizeof__', '__str__', '__subclasshook__', '__weakref__', '_clone', '_db', '_fetch_all', '_hints', '_prefetch_done', '_prefetch_related_lookups', '_prefetch_related_objects', '_result_cache', 'columns', 'db', 'iterator', 'model', 'model_fields', 'params', 'prefetch_related', 'query', 'raw_query', 'resolve_model_init_order', 'translations', 'using']\n"
     ]
    }
   ],
   "source": [
    "result = Question.objects.raw('SELECT * FROM polls_question;')\n",
    "\n",
    "print(dir(result))"
   ]
  },
  {
   "cell_type": "code",
   "execution_count": 26,
   "metadata": {},
   "outputs": [
    {
     "data": {
      "text/plain": [
       "['id', 'question_text', 'pub_date']"
      ]
     },
     "execution_count": 26,
     "metadata": {},
     "output_type": "execute_result"
    }
   ],
   "source": [
    "result.columns"
   ]
  },
  {
   "cell_type": "code",
   "execution_count": 27,
   "metadata": {},
   "outputs": [
    {
     "name": "stdout",
     "output_type": "stream",
     "text": [
      "What's new?\n",
      "How are you?\n",
      "What is your age?\n",
      "What is your best hobby?\n"
     ]
    }
   ],
   "source": [
    "for each in result: print(each)"
   ]
  },
  {
   "cell_type": "code",
   "execution_count": 28,
   "metadata": {},
   "outputs": [
    {
     "name": "stdout",
     "output_type": "stream",
     "text": [
      "1 What's new?\n",
      "2 How are you?\n",
      "3 What is your age?\n",
      "4 What is your best hobby?\n"
     ]
    }
   ],
   "source": [
    "for each in result: print(f'{each.id} {each.question_text}')"
   ]
  },
  {
   "cell_type": "code",
   "execution_count": 88,
   "metadata": {},
   "outputs": [
    {
     "name": "stdout",
     "output_type": "stream",
     "text": [
      "1 What are the new updates?\n",
      "3 What is your age?\n",
      "4 What is your best hobby?\n",
      "5 What is your favorite movie?\n",
      "6 What is your favorite food?\n"
     ]
    }
   ],
   "source": [
    "result = Question.objects.raw(\"SELECT * FROM polls_question WHERE question_text LIKE 'what%';\")\n",
    "for each in result:\n",
    "     print(f'{each.id} {each.question_text}')"
   ]
  },
  {
   "cell_type": "code",
   "execution_count": 29,
   "metadata": {},
   "outputs": [
    {
     "name": "stdout",
     "output_type": "stream",
     "text": [
      "['__class__', '__delattr__', '__dict__', '__dir__', '__doc__', '__eq__', '__format__', '__ge__', '__getattribute__', '__gt__', '__hash__', '__init__', '__init_subclass__', '__le__', '__lt__', '__module__', '__ne__', '__new__', '__reduce__', '__reduce_ex__', '__repr__', '__setattr__', '__sizeof__', '__slotnames__', '__str__', '__subclasshook__', '__weakref__', '_constructor_args', '_db', '_get_queryset_methods', '_hints', '_insert', '_queryset_class', '_set_creation_counter', '_update', 'aggregate', 'all', 'annotate', 'auto_created', 'bulk_create', 'bulk_update', 'check', 'complex_filter', 'contribute_to_class', 'count', 'create', 'creation_counter', 'dates', 'datetimes', 'db', 'db_manager', 'deconstruct', 'defer', 'difference', 'distinct', 'earliest', 'exclude', 'exists', 'explain', 'extra', 'filter', 'first', 'from_queryset', 'get', 'get_or_create', 'get_queryset', 'in_bulk', 'intersection', 'iterator', 'last', 'latest', 'model', 'name', 'none', 'only', 'order_by', 'prefetch_related', 'raw', 'reverse', 'select_for_update', 'select_related', 'union', 'update', 'update_or_create', 'use_in_migrations', 'using', 'values', 'values_list']\n"
     ]
    }
   ],
   "source": [
    "print(dir(Question.objects))"
   ]
  },
  {
   "cell_type": "markdown",
   "metadata": {},
   "source": [
    "Ref: https://docs.djangoproject.com/en/3.0/ref/models/querysets/#field-lookups"
   ]
  },
  {
   "cell_type": "code",
   "execution_count": 30,
   "metadata": {},
   "outputs": [
    {
     "name": "stdout",
     "output_type": "stream",
     "text": [
      "{'id': 1, 'question_id': 1, 'choice_text': 'Not much', 'votes': 0}\n",
      "{'id': 2, 'question_id': 4, 'choice_text': 'The sky', 'votes': 0}\n",
      "{'id': 4, 'question_id': 4, 'choice_text': 'Reading Books', 'votes': 1}\n",
      "{'id': 5, 'question_id': 4, 'choice_text': 'Playing cricket', 'votes': 4}\n",
      "{'id': 6, 'question_id': 3, 'choice_text': '0 -15', 'votes': 1}\n",
      "{'id': 7, 'question_id': 3, 'choice_text': '15-24', 'votes': 1}\n",
      "{'id': 8, 'question_id': 3, 'choice_text': '25-35', 'votes': 1}\n",
      "{'id': 9, 'question_id': 3, 'choice_text': '35-60', 'votes': 5}\n",
      "{'id': 10, 'question_id': 3, 'choice_text': 'above 60', 'votes': 0}\n"
     ]
    }
   ],
   "source": [
    "for each in Choice.objects.values(): print(each)"
   ]
  },
  {
   "cell_type": "code",
   "execution_count": 31,
   "metadata": {},
   "outputs": [
    {
     "data": {
      "text/plain": [
       "<QuerySet [{'question_id': 1}, {'question_id': 3}, {'question_id': 3}, {'question_id': 3}, {'question_id': 3}, {'question_id': 3}, {'question_id': 4}, {'question_id': 4}, {'question_id': 4}]>"
      ]
     },
     "execution_count": 31,
     "metadata": {},
     "output_type": "execute_result"
    }
   ],
   "source": [
    "Choice.objects.values('question_id')"
   ]
  },
  {
   "cell_type": "code",
   "execution_count": 32,
   "metadata": {},
   "outputs": [
    {
     "data": {
      "text/plain": [
       "<QuerySet [(1,), (3,), (3,), (3,), (3,), (3,), (4,), (4,), (4,)]>"
      ]
     },
     "execution_count": 32,
     "metadata": {},
     "output_type": "execute_result"
    }
   ],
   "source": [
    "Choice.objects.values_list('question_id')"
   ]
  },
  {
   "cell_type": "code",
   "execution_count": 33,
   "metadata": {},
   "outputs": [
    {
     "data": {
      "text/plain": [
       "(1, 3, 3, 3, 3, 3, 4, 4, 4)"
      ]
     },
     "execution_count": 33,
     "metadata": {},
     "output_type": "execute_result"
    }
   ],
   "source": [
    "sum(Choice.objects.values_list('question_id'), ())"
   ]
  },
  {
   "cell_type": "code",
   "execution_count": 34,
   "metadata": {},
   "outputs": [
    {
     "data": {
      "text/plain": [
       "<QuerySet [1, 3, 3, 3, 3, 3, 4, 4, 4]>"
      ]
     },
     "execution_count": 34,
     "metadata": {},
     "output_type": "execute_result"
    }
   ],
   "source": [
    "Choice.objects.values_list('question_id', flat=True)"
   ]
  },
  {
   "cell_type": "code",
   "execution_count": 35,
   "metadata": {},
   "outputs": [
    {
     "data": {
      "text/plain": [
       "{1, 3, 4}"
      ]
     },
     "execution_count": 35,
     "metadata": {},
     "output_type": "execute_result"
    }
   ],
   "source": [
    "set(Choice.objects.values_list('question_id', flat=True))"
   ]
  },
  {
   "cell_type": "code",
   "execution_count": 36,
   "metadata": {},
   "outputs": [
    {
     "data": {
      "text/plain": [
       "<QuerySet [1, 3, 4]>"
      ]
     },
     "execution_count": 36,
     "metadata": {},
     "output_type": "execute_result"
    }
   ],
   "source": [
    "Choice.objects.values_list('question_id', flat=True).distinct()"
   ]
  },
  {
   "cell_type": "code",
   "execution_count": 38,
   "metadata": {},
   "outputs": [
    {
     "data": {
      "text/plain": [
       "<Choice: above 60>"
      ]
     },
     "execution_count": 38,
     "metadata": {},
     "output_type": "execute_result"
    }
   ],
   "source": [
    "Choice.objects.latest('choice_text')"
   ]
  },
  {
   "cell_type": "code",
   "execution_count": 40,
   "metadata": {},
   "outputs": [
    {
     "data": {
      "text/plain": [
       "<Choice: 0 -15>"
      ]
     },
     "execution_count": 40,
     "metadata": {},
     "output_type": "execute_result"
    }
   ],
   "source": [
    "Choice.objects.earliest('choice_text')"
   ]
  },
  {
   "cell_type": "code",
   "execution_count": 41,
   "metadata": {},
   "outputs": [
    {
     "data": {
      "text/plain": [
       "<Choice: above 60>"
      ]
     },
     "execution_count": 41,
     "metadata": {},
     "output_type": "execute_result"
    }
   ],
   "source": [
    "Choice.objects.latest('id')"
   ]
  },
  {
   "cell_type": "code",
   "execution_count": 42,
   "metadata": {},
   "outputs": [
    {
     "data": {
      "text/plain": [
       "<Choice: Not much>"
      ]
     },
     "execution_count": 42,
     "metadata": {},
     "output_type": "execute_result"
    }
   ],
   "source": [
    "Choice.objects.earliest('id')"
   ]
  },
  {
   "cell_type": "code",
   "execution_count": 73,
   "metadata": {},
   "outputs": [
    {
     "name": "stdout",
     "output_type": "stream",
     "text": [
      "{'id': 1, 'question_id': 1, 'choice_text': 'Not much', 'votes': 0}\n",
      "{'id': 2, 'question_id': 4, 'choice_text': 'The sky', 'votes': 0}\n",
      "{'id': 4, 'question_id': 4, 'choice_text': 'Reading Books', 'votes': 1}\n",
      "{'id': 5, 'question_id': 4, 'choice_text': 'Playing cricket', 'votes': 4}\n",
      "{'id': 6, 'question_id': 3, 'choice_text': '0 -15', 'votes': 1}\n",
      "{'id': 7, 'question_id': 3, 'choice_text': '15-24', 'votes': 1}\n",
      "{'id': 8, 'question_id': 3, 'choice_text': '25-35', 'votes': 1}\n",
      "{'id': 9, 'question_id': 3, 'choice_text': '35-60', 'votes': 5}\n",
      "{'id': 10, 'question_id': 3, 'choice_text': 'above 60', 'votes': 0}\n"
     ]
    }
   ],
   "source": [
    "for each in Choice.objects.values(): print(each)"
   ]
  },
  {
   "cell_type": "code",
   "execution_count": 74,
   "metadata": {},
   "outputs": [
    {
     "data": {
      "text/plain": [
       "<QuerySet [{'id': 1, 'question_id': 1, 'choice_text': 'Not much', 'votes': 0}]>"
      ]
     },
     "execution_count": 74,
     "metadata": {},
     "output_type": "execute_result"
    }
   ],
   "source": [
    "Choice.objects.filter(choice_text='Not much').values()"
   ]
  },
  {
   "cell_type": "code",
   "execution_count": 75,
   "metadata": {},
   "outputs": [
    {
     "data": {
      "text/plain": [
       "(1, {'polls.Choice': 1})"
      ]
     },
     "execution_count": 75,
     "metadata": {},
     "output_type": "execute_result"
    }
   ],
   "source": [
    "Choice.objects.filter(choice_text='Not much').delete()"
   ]
  },
  {
   "cell_type": "code",
   "execution_count": 76,
   "metadata": {},
   "outputs": [
    {
     "data": {
      "text/plain": [
       "False"
      ]
     },
     "execution_count": 76,
     "metadata": {},
     "output_type": "execute_result"
    }
   ],
   "source": [
    "Choice.objects.filter(choice_text='Not much').exists()"
   ]
  },
  {
   "cell_type": "code",
   "execution_count": 77,
   "metadata": {},
   "outputs": [
    {
     "data": {
      "text/plain": [
       "(0, {'polls.Choice': 0})"
      ]
     },
     "execution_count": 77,
     "metadata": {},
     "output_type": "execute_result"
    }
   ],
   "source": [
    "Choice.objects.filter(choice_text='Not much').delete()"
   ]
  },
  {
   "cell_type": "code",
   "execution_count": 78,
   "metadata": {},
   "outputs": [
    {
     "data": {
      "text/plain": [
       "(0, {'polls.Choice': 0})"
      ]
     },
     "execution_count": 78,
     "metadata": {},
     "output_type": "execute_result"
    }
   ],
   "source": [
    "Choice.objects.filter(choice_text='Not much').delete()"
   ]
  },
  {
   "cell_type": "code",
   "execution_count": 79,
   "metadata": {},
   "outputs": [
    {
     "name": "stdout",
     "output_type": "stream",
     "text": [
      "{'id': 2, 'question_id': 4, 'choice_text': 'The sky', 'votes': 0}\n",
      "{'id': 4, 'question_id': 4, 'choice_text': 'Reading Books', 'votes': 1}\n",
      "{'id': 5, 'question_id': 4, 'choice_text': 'Playing cricket', 'votes': 4}\n",
      "{'id': 6, 'question_id': 3, 'choice_text': '0 -15', 'votes': 1}\n",
      "{'id': 7, 'question_id': 3, 'choice_text': '15-24', 'votes': 1}\n",
      "{'id': 8, 'question_id': 3, 'choice_text': '25-35', 'votes': 1}\n",
      "{'id': 9, 'question_id': 3, 'choice_text': '35-60', 'votes': 5}\n",
      "{'id': 10, 'question_id': 3, 'choice_text': 'above 60', 'votes': 0}\n"
     ]
    }
   ],
   "source": [
    "for each in Choice.objects.values(): print(each)"
   ]
  },
  {
   "cell_type": "code",
   "execution_count": 81,
   "metadata": {},
   "outputs": [
    {
     "name": "stdout",
     "output_type": "stream",
     "text": [
      "{'id': 6, 'question_id': 3, 'choice_text': '0 -15', 'votes': 1}\n",
      "{'id': 7, 'question_id': 3, 'choice_text': '15-24', 'votes': 1}\n",
      "{'id': 8, 'question_id': 3, 'choice_text': '25-35', 'votes': 1}\n",
      "{'id': 9, 'question_id': 3, 'choice_text': '35-60', 'votes': 5}\n"
     ]
    }
   ],
   "source": [
    "for each in Choice.objects.filter(choice_text__regex='^\\d').values(): print(each)"
   ]
  },
  {
   "cell_type": "code",
   "execution_count": 83,
   "metadata": {},
   "outputs": [
    {
     "name": "stdout",
     "output_type": "stream",
     "text": [
      "{'id': 9, 'question_id': 3, 'choice_text': '35-60', 'votes': 5}\n"
     ]
    }
   ],
   "source": [
    "for each in Choice.objects.filter(choice_text__regex='^\\d').exclude(votes=1).values(): print(each)"
   ]
  },
  {
   "cell_type": "code",
   "execution_count": 84,
   "metadata": {},
   "outputs": [
    {
     "ename": "MultipleObjectsReturned",
     "evalue": "get() returned more than one Choice -- it returned 4!",
     "output_type": "error",
     "traceback": [
      "\u001b[1;31m---------------------------------------------------------------------------\u001b[0m",
      "\u001b[1;31mMultipleObjectsReturned\u001b[0m                   Traceback (most recent call last)",
      "\u001b[1;32m<ipython-input-84-2c7368ba5209>\u001b[0m in \u001b[0;36m<module>\u001b[1;34m\u001b[0m\n\u001b[1;32m----> 1\u001b[1;33m \u001b[1;32mfor\u001b[0m \u001b[0meach\u001b[0m \u001b[1;32min\u001b[0m \u001b[0mChoice\u001b[0m\u001b[1;33m.\u001b[0m\u001b[0mobjects\u001b[0m\u001b[1;33m.\u001b[0m\u001b[0mget\u001b[0m\u001b[1;33m(\u001b[0m\u001b[0mchoice_text__regex\u001b[0m\u001b[1;33m=\u001b[0m\u001b[1;34m'^\\d'\u001b[0m\u001b[1;33m)\u001b[0m\u001b[1;33m.\u001b[0m\u001b[0mexclude\u001b[0m\u001b[1;33m(\u001b[0m\u001b[0mvotes\u001b[0m\u001b[1;33m=\u001b[0m\u001b[1;36m1\u001b[0m\u001b[1;33m)\u001b[0m\u001b[1;33m.\u001b[0m\u001b[0mvalues\u001b[0m\u001b[1;33m(\u001b[0m\u001b[1;33m)\u001b[0m\u001b[1;33m:\u001b[0m \u001b[0mprint\u001b[0m\u001b[1;33m(\u001b[0m\u001b[0meach\u001b[0m\u001b[1;33m)\u001b[0m\u001b[1;33m\u001b[0m\u001b[1;33m\u001b[0m\u001b[0m\n\u001b[0m",
      "\u001b[1;32mD:\\Professional\\courses\\Python-related\\Django-related\\Django_Projects\\startProject\\.venv\\lib\\site-packages\\django\\db\\models\\manager.py\u001b[0m in \u001b[0;36mmanager_method\u001b[1;34m(self, *args, **kwargs)\u001b[0m\n\u001b[0;32m     80\u001b[0m         \u001b[1;32mdef\u001b[0m \u001b[0mcreate_method\u001b[0m\u001b[1;33m(\u001b[0m\u001b[0mname\u001b[0m\u001b[1;33m,\u001b[0m \u001b[0mmethod\u001b[0m\u001b[1;33m)\u001b[0m\u001b[1;33m:\u001b[0m\u001b[1;33m\u001b[0m\u001b[1;33m\u001b[0m\u001b[0m\n\u001b[0;32m     81\u001b[0m             \u001b[1;32mdef\u001b[0m \u001b[0mmanager_method\u001b[0m\u001b[1;33m(\u001b[0m\u001b[0mself\u001b[0m\u001b[1;33m,\u001b[0m \u001b[1;33m*\u001b[0m\u001b[0margs\u001b[0m\u001b[1;33m,\u001b[0m \u001b[1;33m**\u001b[0m\u001b[0mkwargs\u001b[0m\u001b[1;33m)\u001b[0m\u001b[1;33m:\u001b[0m\u001b[1;33m\u001b[0m\u001b[1;33m\u001b[0m\u001b[0m\n\u001b[1;32m---> 82\u001b[1;33m                 \u001b[1;32mreturn\u001b[0m \u001b[0mgetattr\u001b[0m\u001b[1;33m(\u001b[0m\u001b[0mself\u001b[0m\u001b[1;33m.\u001b[0m\u001b[0mget_queryset\u001b[0m\u001b[1;33m(\u001b[0m\u001b[1;33m)\u001b[0m\u001b[1;33m,\u001b[0m \u001b[0mname\u001b[0m\u001b[1;33m)\u001b[0m\u001b[1;33m(\u001b[0m\u001b[1;33m*\u001b[0m\u001b[0margs\u001b[0m\u001b[1;33m,\u001b[0m \u001b[1;33m**\u001b[0m\u001b[0mkwargs\u001b[0m\u001b[1;33m)\u001b[0m\u001b[1;33m\u001b[0m\u001b[1;33m\u001b[0m\u001b[0m\n\u001b[0m\u001b[0;32m     83\u001b[0m             \u001b[0mmanager_method\u001b[0m\u001b[1;33m.\u001b[0m\u001b[0m__name__\u001b[0m \u001b[1;33m=\u001b[0m \u001b[0mmethod\u001b[0m\u001b[1;33m.\u001b[0m\u001b[0m__name__\u001b[0m\u001b[1;33m\u001b[0m\u001b[1;33m\u001b[0m\u001b[0m\n\u001b[0;32m     84\u001b[0m             \u001b[0mmanager_method\u001b[0m\u001b[1;33m.\u001b[0m\u001b[0m__doc__\u001b[0m \u001b[1;33m=\u001b[0m \u001b[0mmethod\u001b[0m\u001b[1;33m.\u001b[0m\u001b[0m__doc__\u001b[0m\u001b[1;33m\u001b[0m\u001b[1;33m\u001b[0m\u001b[0m\n",
      "\u001b[1;32mD:\\Professional\\courses\\Python-related\\Django-related\\Django_Projects\\startProject\\.venv\\lib\\site-packages\\django\\db\\models\\query.py\u001b[0m in \u001b[0;36mget\u001b[1;34m(self, *args, **kwargs)\u001b[0m\n\u001b[0;32m    417\u001b[0m                 \u001b[0mself\u001b[0m\u001b[1;33m.\u001b[0m\u001b[0mmodel\u001b[0m\u001b[1;33m.\u001b[0m\u001b[0m_meta\u001b[0m\u001b[1;33m.\u001b[0m\u001b[0mobject_name\u001b[0m\u001b[1;33m\u001b[0m\u001b[1;33m\u001b[0m\u001b[0m\n\u001b[0;32m    418\u001b[0m             )\n\u001b[1;32m--> 419\u001b[1;33m         raise self.model.MultipleObjectsReturned(\n\u001b[0m\u001b[0;32m    420\u001b[0m             'get() returned more than one %s -- it returned %s!' % (\n\u001b[0;32m    421\u001b[0m                 \u001b[0mself\u001b[0m\u001b[1;33m.\u001b[0m\u001b[0mmodel\u001b[0m\u001b[1;33m.\u001b[0m\u001b[0m_meta\u001b[0m\u001b[1;33m.\u001b[0m\u001b[0mobject_name\u001b[0m\u001b[1;33m,\u001b[0m\u001b[1;33m\u001b[0m\u001b[1;33m\u001b[0m\u001b[0m\n",
      "\u001b[1;31mMultipleObjectsReturned\u001b[0m: get() returned more than one Choice -- it returned 4!"
     ]
    }
   ],
   "source": [
    "for each in Choice.objects.get(choice_text__regex='^\\d').exclude(votes=1).values(): print(each)"
   ]
  },
  {
   "cell_type": "code",
   "execution_count": 85,
   "metadata": {},
   "outputs": [
    {
     "data": {
      "text/plain": [
       "<Choice: 35-60>"
      ]
     },
     "execution_count": 85,
     "metadata": {},
     "output_type": "execute_result"
    }
   ],
   "source": [
    "Choice.objects.exclude(votes=1).get(choice_text__regex='^\\d')"
   ]
  },
  {
   "cell_type": "code",
   "execution_count": 86,
   "metadata": {},
   "outputs": [
    {
     "data": {
      "text/plain": [
       "(1, {'polls.Choice': 1})"
      ]
     },
     "execution_count": 86,
     "metadata": {},
     "output_type": "execute_result"
    }
   ],
   "source": [
    "Choice.objects.exclude(votes=1).get(choice_text__regex='^\\d').delete()"
   ]
  },
  {
   "cell_type": "code",
   "execution_count": 87,
   "metadata": {},
   "outputs": [
    {
     "ename": "DoesNotExist",
     "evalue": "Choice matching query does not exist.",
     "output_type": "error",
     "traceback": [
      "\u001b[1;31m---------------------------------------------------------------------------\u001b[0m",
      "\u001b[1;31mDoesNotExist\u001b[0m                              Traceback (most recent call last)",
      "\u001b[1;32m<ipython-input-87-2bb306f9945f>\u001b[0m in \u001b[0;36m<module>\u001b[1;34m\u001b[0m\n\u001b[1;32m----> 1\u001b[1;33m \u001b[0mChoice\u001b[0m\u001b[1;33m.\u001b[0m\u001b[0mobjects\u001b[0m\u001b[1;33m.\u001b[0m\u001b[0mexclude\u001b[0m\u001b[1;33m(\u001b[0m\u001b[0mvotes\u001b[0m\u001b[1;33m=\u001b[0m\u001b[1;36m1\u001b[0m\u001b[1;33m)\u001b[0m\u001b[1;33m.\u001b[0m\u001b[0mget\u001b[0m\u001b[1;33m(\u001b[0m\u001b[0mchoice_text__regex\u001b[0m\u001b[1;33m=\u001b[0m\u001b[1;34m'^\\d'\u001b[0m\u001b[1;33m)\u001b[0m\u001b[1;33m\u001b[0m\u001b[1;33m\u001b[0m\u001b[0m\n\u001b[0m",
      "\u001b[1;32mD:\\Professional\\courses\\Python-related\\Django-related\\Django_Projects\\startProject\\.venv\\lib\\site-packages\\django\\db\\models\\query.py\u001b[0m in \u001b[0;36mget\u001b[1;34m(self, *args, **kwargs)\u001b[0m\n\u001b[0;32m    413\u001b[0m             \u001b[1;32mreturn\u001b[0m \u001b[0mclone\u001b[0m\u001b[1;33m.\u001b[0m\u001b[0m_result_cache\u001b[0m\u001b[1;33m[\u001b[0m\u001b[1;36m0\u001b[0m\u001b[1;33m]\u001b[0m\u001b[1;33m\u001b[0m\u001b[1;33m\u001b[0m\u001b[0m\n\u001b[0;32m    414\u001b[0m         \u001b[1;32mif\u001b[0m \u001b[1;32mnot\u001b[0m \u001b[0mnum\u001b[0m\u001b[1;33m:\u001b[0m\u001b[1;33m\u001b[0m\u001b[1;33m\u001b[0m\u001b[0m\n\u001b[1;32m--> 415\u001b[1;33m             raise self.model.DoesNotExist(\n\u001b[0m\u001b[0;32m    416\u001b[0m                 \u001b[1;34m\"%s matching query does not exist.\"\u001b[0m \u001b[1;33m%\u001b[0m\u001b[1;33m\u001b[0m\u001b[1;33m\u001b[0m\u001b[0m\n\u001b[0;32m    417\u001b[0m                 \u001b[0mself\u001b[0m\u001b[1;33m.\u001b[0m\u001b[0mmodel\u001b[0m\u001b[1;33m.\u001b[0m\u001b[0m_meta\u001b[0m\u001b[1;33m.\u001b[0m\u001b[0mobject_name\u001b[0m\u001b[1;33m\u001b[0m\u001b[1;33m\u001b[0m\u001b[0m\n",
      "\u001b[1;31mDoesNotExist\u001b[0m: Choice matching query does not exist."
     ]
    }
   ],
   "source": [
    "Choice.objects.exclude(votes=1).get(choice_text__regex='^\\d')"
   ]
  }
 ],
 "metadata": {
  "kernelspec": {
   "display_name": "Django Shell-Plus",
   "language": "python",
   "name": "django_extensions"
  },
  "language_info": {
   "codemirror_mode": {
    "name": "ipython",
    "version": 3
   },
   "file_extension": ".py",
   "mimetype": "text/x-python",
   "name": "python",
   "nbconvert_exporter": "python",
   "pygments_lexer": "ipython3",
   "version": "3.8.2"
  }
 },
 "nbformat": 4,
 "nbformat_minor": 4
}
